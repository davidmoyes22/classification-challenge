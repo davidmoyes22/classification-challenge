


import pandas as pd
from sklearn.model_selection import train_test_split
from sklearn.metrics import accuracy_score





# Import the data
data = pd.read_csv("https://static.bc-edx.com/ai/ail-v-1-0/m13/challenge/spam-data.csv")
data.head()











# Create the labels set `y` and features DataFrame `X`
y = data["spam"]

X = data.copy()
X = X.drop(columns="spam")


# Check the balance of the labels variable (`y`) by using the `value_counts` function.
data["spam"].value_counts()


# Split the data into X_train, X_test, y_train, y_test
X_train, X_test, y_train, y_test = train_test_split(X, y, random_state=1)
X_train.head()








from sklearn.preprocessing import StandardScaler

# Create the StandardScaler instance
X_scaler = StandardScaler()


# Fit the Standard Scaler with the training data
X_scaler.fit(X_train)


# Scale the training data
X_train_scaled = X_scaler.transform(X_train)
X_test_scaled = X_scaler.transform(X_test)





# Train a Logistic Regression model and print the model score
from sklearn.linear_model import LogisticRegression
logistic_regression_model = LogisticRegression(random_state=1)
logistic_regression_model.fit(X_train_scaled, y_train)
print(f"Training Data Score: {logistic_regression_model.score(X_train_scaled, y_train)}")


# Make and save testing predictions with the saved logistic regression model using the test data
testing_predictions = logistic_regression_model.predict(X_test_scaled)

# Review the predictions
testing_predictions


# Calculate the accuracy score by evaluating `y_test` vs. `testing_predictions`.
accuracy_score(y_test, testing_predictions)





# Train a Random Forest Classifier model and print the model score
from sklearn.ensemble import RandomForestClassifier
rfc = RandomForestClassifier(random_state=1).fit(X_train_scaled, y_train)
print(f"Training Score: {rfc.score(X_train_scaled, y_train)}")


# Make and save testing predictions with the saved logistic regression model using the test data
testing_predictions_rfc = rfc.predict(X_test_scaled)

# Review the predictions
testing_predictions_rfc


# Calculate the accuracy score by evaluating `y_test` vs. `testing_predictions`.
accuracy_score(y_test, testing_predictions_rfc)









